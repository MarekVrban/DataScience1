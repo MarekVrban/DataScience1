{
  "cells": [
    {
      "cell_type": "code",
      "execution_count": 1,
      "metadata": {
        "_cell_guid": "b1076dfc-b9ad-4769-8c92-a6c4dae69d19",
        "_uuid": "8f2839f25d086af736a60e9eeb907d3b93b6e0e5",
        "id": "Coh-1A9B9NXF"
      },
      "outputs": [],
      "source": [
        "import numpy as np \n",
        "import pandas as pd\n",
        "import matplotlib.pyplot as plt"
      ]
    },
    {
      "cell_type": "markdown",
      "metadata": {
        "id": "rmFP5a319NXL"
      },
      "source": [
        "<a id=\"5\"></a>\n",
        "**Loading Data:**"
      ]
    },
    {
      "cell_type": "code",
      "execution_count": null,
      "metadata": {
        "id": "PLqPEVT69NXL"
      },
      "outputs": [],
      "source": [
        "dataset_train = pd.read_csv('Stock_Price_Train.csv')"
      ]
    },
    {
      "cell_type": "code",
      "execution_count": null,
      "metadata": {
        "colab": {
          "base_uri": "https://localhost:8080/",
          "height": 204
        },
        "id": "65iRmcBX9NXM",
        "outputId": "aa8cc35d-e136-4acd-a490-255533747578"
      },
      "outputs": [
        {
          "output_type": "execute_result",
          "data": {
            "text/plain": [
              "       Date    Open    High     Low   Close      Volume\n",
              "0  1/3/2012  325.25  332.83  324.97  663.59   7,380,500\n",
              "1  1/4/2012  331.27  333.87  329.08  666.45   5,749,400\n",
              "2  1/5/2012  329.83  330.75  326.89  657.21   6,590,300\n",
              "3  1/6/2012  328.34  328.77  323.68  648.24   5,405,900\n",
              "4  1/9/2012  322.04  322.29  309.46  620.76  11,688,800"
            ],
            "text/html": [
              "\n",
              "  <div id=\"df-0384e918-1b24-454f-ac0c-d36993ecb128\">\n",
              "    <div class=\"colab-df-container\">\n",
              "      <div>\n",
              "<style scoped>\n",
              "    .dataframe tbody tr th:only-of-type {\n",
              "        vertical-align: middle;\n",
              "    }\n",
              "\n",
              "    .dataframe tbody tr th {\n",
              "        vertical-align: top;\n",
              "    }\n",
              "\n",
              "    .dataframe thead th {\n",
              "        text-align: right;\n",
              "    }\n",
              "</style>\n",
              "<table border=\"1\" class=\"dataframe\">\n",
              "  <thead>\n",
              "    <tr style=\"text-align: right;\">\n",
              "      <th></th>\n",
              "      <th>Date</th>\n",
              "      <th>Open</th>\n",
              "      <th>High</th>\n",
              "      <th>Low</th>\n",
              "      <th>Close</th>\n",
              "      <th>Volume</th>\n",
              "    </tr>\n",
              "  </thead>\n",
              "  <tbody>\n",
              "    <tr>\n",
              "      <th>0</th>\n",
              "      <td>1/3/2012</td>\n",
              "      <td>325.25</td>\n",
              "      <td>332.83</td>\n",
              "      <td>324.97</td>\n",
              "      <td>663.59</td>\n",
              "      <td>7,380,500</td>\n",
              "    </tr>\n",
              "    <tr>\n",
              "      <th>1</th>\n",
              "      <td>1/4/2012</td>\n",
              "      <td>331.27</td>\n",
              "      <td>333.87</td>\n",
              "      <td>329.08</td>\n",
              "      <td>666.45</td>\n",
              "      <td>5,749,400</td>\n",
              "    </tr>\n",
              "    <tr>\n",
              "      <th>2</th>\n",
              "      <td>1/5/2012</td>\n",
              "      <td>329.83</td>\n",
              "      <td>330.75</td>\n",
              "      <td>326.89</td>\n",
              "      <td>657.21</td>\n",
              "      <td>6,590,300</td>\n",
              "    </tr>\n",
              "    <tr>\n",
              "      <th>3</th>\n",
              "      <td>1/6/2012</td>\n",
              "      <td>328.34</td>\n",
              "      <td>328.77</td>\n",
              "      <td>323.68</td>\n",
              "      <td>648.24</td>\n",
              "      <td>5,405,900</td>\n",
              "    </tr>\n",
              "    <tr>\n",
              "      <th>4</th>\n",
              "      <td>1/9/2012</td>\n",
              "      <td>322.04</td>\n",
              "      <td>322.29</td>\n",
              "      <td>309.46</td>\n",
              "      <td>620.76</td>\n",
              "      <td>11,688,800</td>\n",
              "    </tr>\n",
              "  </tbody>\n",
              "</table>\n",
              "</div>\n",
              "      <button class=\"colab-df-convert\" onclick=\"convertToInteractive('df-0384e918-1b24-454f-ac0c-d36993ecb128')\"\n",
              "              title=\"Convert this dataframe to an interactive table.\"\n",
              "              style=\"display:none;\">\n",
              "        \n",
              "  <svg xmlns=\"http://www.w3.org/2000/svg\" height=\"24px\"viewBox=\"0 0 24 24\"\n",
              "       width=\"24px\">\n",
              "    <path d=\"M0 0h24v24H0V0z\" fill=\"none\"/>\n",
              "    <path d=\"M18.56 5.44l.94 2.06.94-2.06 2.06-.94-2.06-.94-.94-2.06-.94 2.06-2.06.94zm-11 1L8.5 8.5l.94-2.06 2.06-.94-2.06-.94L8.5 2.5l-.94 2.06-2.06.94zm10 10l.94 2.06.94-2.06 2.06-.94-2.06-.94-.94-2.06-.94 2.06-2.06.94z\"/><path d=\"M17.41 7.96l-1.37-1.37c-.4-.4-.92-.59-1.43-.59-.52 0-1.04.2-1.43.59L10.3 9.45l-7.72 7.72c-.78.78-.78 2.05 0 2.83L4 21.41c.39.39.9.59 1.41.59.51 0 1.02-.2 1.41-.59l7.78-7.78 2.81-2.81c.8-.78.8-2.07 0-2.86zM5.41 20L4 18.59l7.72-7.72 1.47 1.35L5.41 20z\"/>\n",
              "  </svg>\n",
              "      </button>\n",
              "      \n",
              "  <style>\n",
              "    .colab-df-container {\n",
              "      display:flex;\n",
              "      flex-wrap:wrap;\n",
              "      gap: 12px;\n",
              "    }\n",
              "\n",
              "    .colab-df-convert {\n",
              "      background-color: #E8F0FE;\n",
              "      border: none;\n",
              "      border-radius: 50%;\n",
              "      cursor: pointer;\n",
              "      display: none;\n",
              "      fill: #1967D2;\n",
              "      height: 32px;\n",
              "      padding: 0 0 0 0;\n",
              "      width: 32px;\n",
              "    }\n",
              "\n",
              "    .colab-df-convert:hover {\n",
              "      background-color: #E2EBFA;\n",
              "      box-shadow: 0px 1px 2px rgba(60, 64, 67, 0.3), 0px 1px 3px 1px rgba(60, 64, 67, 0.15);\n",
              "      fill: #174EA6;\n",
              "    }\n",
              "\n",
              "    [theme=dark] .colab-df-convert {\n",
              "      background-color: #3B4455;\n",
              "      fill: #D2E3FC;\n",
              "    }\n",
              "\n",
              "    [theme=dark] .colab-df-convert:hover {\n",
              "      background-color: #434B5C;\n",
              "      box-shadow: 0px 1px 3px 1px rgba(0, 0, 0, 0.15);\n",
              "      filter: drop-shadow(0px 1px 2px rgba(0, 0, 0, 0.3));\n",
              "      fill: #FFFFFF;\n",
              "    }\n",
              "  </style>\n",
              "\n",
              "      <script>\n",
              "        const buttonEl =\n",
              "          document.querySelector('#df-0384e918-1b24-454f-ac0c-d36993ecb128 button.colab-df-convert');\n",
              "        buttonEl.style.display =\n",
              "          google.colab.kernel.accessAllowed ? 'block' : 'none';\n",
              "\n",
              "        async function convertToInteractive(key) {\n",
              "          const element = document.querySelector('#df-0384e918-1b24-454f-ac0c-d36993ecb128');\n",
              "          const dataTable =\n",
              "            await google.colab.kernel.invokeFunction('convertToInteractive',\n",
              "                                                     [key], {});\n",
              "          if (!dataTable) return;\n",
              "\n",
              "          const docLinkHtml = 'Like what you see? Visit the ' +\n",
              "            '<a target=\"_blank\" href=https://colab.research.google.com/notebooks/data_table.ipynb>data table notebook</a>'\n",
              "            + ' to learn more about interactive tables.';\n",
              "          element.innerHTML = '';\n",
              "          dataTable['output_type'] = 'display_data';\n",
              "          await google.colab.output.renderOutput(dataTable, element);\n",
              "          const docLink = document.createElement('div');\n",
              "          docLink.innerHTML = docLinkHtml;\n",
              "          element.appendChild(docLink);\n",
              "        }\n",
              "      </script>\n",
              "    </div>\n",
              "  </div>\n",
              "  "
            ]
          },
          "metadata": {},
          "execution_count": 5
        }
      ],
      "source": [
        "dataset_train.head()"
      ]
    },
    {
      "cell_type": "code",
      "execution_count": null,
      "metadata": {
        "colab": {
          "base_uri": "https://localhost:8080/"
        },
        "id": "jamSHStK9NXN",
        "outputId": "bef445df-e253-4fd3-8f43-9d2aa447a63f"
      },
      "outputs": [
        {
          "output_type": "execute_result",
          "data": {
            "text/plain": [
              "array([[325.25],\n",
              "       [331.27],\n",
              "       [329.83],\n",
              "       ...,\n",
              "       [793.7 ],\n",
              "       [783.33],\n",
              "       [782.75]])"
            ]
          },
          "metadata": {},
          "execution_count": 6
        }
      ],
      "source": [
        "\n",
        "train = dataset_train.loc[:, ['Open']].values\n",
        "train"
      ]
    },
    {
      "cell_type": "markdown",
      "metadata": {
        "id": "zWPDFk4E9NXO"
      },
      "source": [
        "<a id=\"6\"></a>\n",
        "**Feature Scaling:**"
      ]
    },
    {
      "cell_type": "code",
      "execution_count": null,
      "metadata": {
        "colab": {
          "base_uri": "https://localhost:8080/"
        },
        "id": "fZvI1-Kr9NXP",
        "outputId": "7c47ed97-fcdf-413b-e14d-c702dff9278e"
      },
      "outputs": [
        {
          "output_type": "execute_result",
          "data": {
            "text/plain": [
              "array([[0.08581368],\n",
              "       [0.09701243],\n",
              "       [0.09433366],\n",
              "       ...,\n",
              "       [0.95725128],\n",
              "       [0.93796041],\n",
              "       [0.93688146]])"
            ]
          },
          "metadata": {},
          "execution_count": 7
        }
      ],
      "source": [
        "from sklearn.preprocessing import MinMaxScaler \n",
        "scaler = MinMaxScaler(feature_range = (0, 1))\n",
        "train_scaled = scaler.fit_transform(train)\n",
        "train_scaled"
      ]
    },
    {
      "cell_type": "code",
      "execution_count": null,
      "metadata": {
        "colab": {
          "base_uri": "https://localhost:8080/",
          "height": 282
        },
        "id": "oNLrKdhz9NXQ",
        "outputId": "e2ee2858-0ebb-478b-9bf8-16e7ff5e3547"
      },
      "outputs": [
        {
          "output_type": "execute_result",
          "data": {
            "text/plain": [
              "[<matplotlib.lines.Line2D at 0x7fcdc39d08e0>]"
            ]
          },
          "metadata": {},
          "execution_count": 8
        },
        {
          "output_type": "display_data",
          "data": {
            "text/plain": [
              "<Figure size 432x288 with 1 Axes>"
            ],
            "image/png": "[encoded data removed]"
          },
          "metadata": {
            "needs_background": "light"
          }
        }
      ],
      "source": [
        "plt.plot(train_scaled)"
      ]
    },
    {
      "cell_type": "markdown",
      "metadata": {
        "id": "W6oktOwB9NXR"
      },
      "source": [
        "<a id=\"7\"></a>\n",
        "**Create Data Structure:**"
      ]
    },
    {
      "cell_type": "code",
      "execution_count": null,
      "metadata": {
        "id": "D6lQoUoq9NXR"
      },
      "outputs": [],
      "source": [
        "X_train = []\n",
        "y_train = []\n",
        "timesteps = 50\n",
        "\n",
        "for i in range(timesteps, 1250):\n",
        "    X_train.append(train_scaled[i - timesteps:i, 0])\n",
        "    y_train.append(train_scaled[i, 0])\n",
        "    \n",
        "X_train, y_train = np.array(X_train), np.array(y_train)"
      ]
    },
    {
      "cell_type": "markdown",
      "metadata": {
        "id": "bJBzoPe09NXS"
      },
      "source": [
        "<a id=\"8\"></a>\n",
        "**Reshape:**"
      ]
    },
    {
      "cell_type": "code",
      "execution_count": null,
      "metadata": {
        "id": "ktVGpWY29NXT"
      },
      "outputs": [],
      "source": [
        "X_train = np.reshape(X_train, (X_train.shape[0], X_train.shape[1], 1))"
      ]
    },
    {
      "cell_type": "markdown",
      "metadata": {
        "id": "DhLo4sKF9NXT"
      },
      "source": [
        "<a id=\"9\"></a>\n",
        "**Create RNN Model**"
      ]
    },
    {
      "cell_type": "code",
      "execution_count": null,
      "metadata": {
        "colab": {
          "base_uri": "https://localhost:8080/"
        },
        "id": "u-Mc6G4s9NXU",
        "outputId": "1169c612-74a9-4a2f-c0db-45924efd9bdb"
      },
      "outputs": [
        {
          "output_type": "stream",
          "name": "stdout",
          "text": [
            "Epoch 1/100\n",
            "38/38 [==============================] - 6s 63ms/step - loss: 0.5331\n",
            "Epoch 2/100\n",
            "38/38 [==============================] - 2s 61ms/step - loss: 0.3253\n",
            "Epoch 3/100\n",
            "38/38 [==============================] - 2s 61ms/step - loss: 0.2723\n",
            "Epoch 4/100\n",
            "38/38 [==============================] - 2s 61ms/step - loss: 0.1914\n",
            "Epoch 5/100\n",
            "38/38 [==============================] - 2s 59ms/step - loss: 0.1888\n",
            "Epoch 6/100\n",
            "38/38 [==============================] - 2s 59ms/step - loss: 0.1359\n",
            "Epoch 7/100\n",
            "38/38 [==============================] - 2s 58ms/step - loss: 0.1145\n",
            "Epoch 8/100\n",
            "38/38 [==============================] - 2s 60ms/step - loss: 0.0922\n",
            "Epoch 9/100\n",
            "38/38 [==============================] - 2s 57ms/step - loss: 0.0806\n",
            "Epoch 10/100\n",
            "38/38 [==============================] - 2s 59ms/step - loss: 0.0767\n",
            "Epoch 11/100\n",
            "38/38 [==============================] - 2s 59ms/step - loss: 0.0640\n",
            "Epoch 12/100\n",
            "38/38 [==============================] - 2s 60ms/step - loss: 0.0567\n",
            "Epoch 13/100\n",
            "38/38 [==============================] - 2s 60ms/step - loss: 0.0488\n",
            "Epoch 14/100\n",
            "38/38 [==============================] - 2s 61ms/step - loss: 0.0437\n",
            "Epoch 15/100\n",
            "38/38 [==============================] - 2s 60ms/step - loss: 0.0368\n",
            "Epoch 16/100\n",
            "38/38 [==============================] - 2s 60ms/step - loss: 0.0305\n",
            "Epoch 17/100\n",
            "38/38 [==============================] - 2s 59ms/step - loss: 0.0274\n",
            "Epoch 18/100\n",
            "38/38 [==============================] - 2s 64ms/step - loss: 0.0293\n",
            "Epoch 19/100\n",
            "38/38 [==============================] - 2s 61ms/step - loss: 0.0245\n",
            "Epoch 20/100\n",
            "38/38 [==============================] - 2s 60ms/step - loss: 0.0210\n",
            "Epoch 21/100\n",
            "38/38 [==============================] - 2s 60ms/step - loss: 0.0214\n",
            "Epoch 22/100\n",
            "38/38 [==============================] - 2s 61ms/step - loss: 0.0209\n",
            "Epoch 23/100\n",
            "38/38 [==============================] - 2s 62ms/step - loss: 0.0181\n",
            "Epoch 24/100\n",
            "38/38 [==============================] - 2s 62ms/step - loss: 0.0157\n",
            "Epoch 25/100\n",
            "38/38 [==============================] - 2s 62ms/step - loss: 0.0147\n",
            "Epoch 26/100\n",
            "38/38 [==============================] - 2s 63ms/step - loss: 0.0156\n",
            "Epoch 27/100\n",
            "38/38 [==============================] - 2s 61ms/step - loss: 0.0137\n",
            "Epoch 28/100\n",
            "38/38 [==============================] - 2s 59ms/step - loss: 0.0132\n",
            "Epoch 29/100\n",
            "38/38 [==============================] - 2s 59ms/step - loss: 0.0124\n",
            "Epoch 30/100\n",
            "38/38 [==============================] - 2s 61ms/step - loss: 0.0114\n",
            "Epoch 31/100\n",
            "38/38 [==============================] - 2s 60ms/step - loss: 0.0110\n",
            "Epoch 32/100\n",
            "38/38 [==============================] - 2s 63ms/step - loss: 0.0098\n",
            "Epoch 33/100\n",
            "38/38 [==============================] - 2s 60ms/step - loss: 0.0089\n",
            "Epoch 34/100\n",
            "38/38 [==============================] - 2s 61ms/step - loss: 0.0088\n",
            "Epoch 35/100\n",
            "38/38 [==============================] - 2s 64ms/step - loss: 0.0089\n",
            "Epoch 36/100\n",
            "38/38 [==============================] - 2s 62ms/step - loss: 0.0073\n",
            "Epoch 37/100\n",
            "38/38 [==============================] - 2s 61ms/step - loss: 0.0070\n",
            "Epoch 38/100\n",
            "38/38 [==============================] - 2s 60ms/step - loss: 0.0075\n",
            "Epoch 39/100\n",
            "38/38 [==============================] - 2s 60ms/step - loss: 0.0071\n",
            "Epoch 40/100\n",
            "38/38 [==============================] - 2s 60ms/step - loss: 0.0065\n",
            "Epoch 41/100\n",
            "38/38 [==============================] - 2s 62ms/step - loss: 0.0061\n",
            "Epoch 42/100\n",
            "38/38 [==============================] - 2s 60ms/step - loss: 0.0060\n",
            "Epoch 43/100\n",
            "38/38 [==============================] - 2s 60ms/step - loss: 0.0057\n",
            "Epoch 44/100\n",
            "38/38 [==============================] - 2s 60ms/step - loss: 0.0059\n",
            "Epoch 45/100\n",
            "38/38 [==============================] - 2s 61ms/step - loss: 0.0055\n",
            "Epoch 46/100\n",
            "38/38 [==============================] - 2s 60ms/step - loss: 0.0060\n",
            "Epoch 47/100\n",
            "38/38 [==============================] - 2s 62ms/step - loss: 0.0055\n",
            "Epoch 48/100\n",
            "38/38 [==============================] - 2s 60ms/step - loss: 0.0051\n",
            "Epoch 49/100\n",
            "38/38 [==============================] - 2s 62ms/step - loss: 0.0048\n",
            "Epoch 50/100\n",
            "38/38 [==============================] - 2s 62ms/step - loss: 0.0049\n",
            "Epoch 51/100\n",
            "38/38 [==============================] - 2s 63ms/step - loss: 0.0050\n",
            "Epoch 52/100\n",
            "38/38 [==============================] - 2s 61ms/step - loss: 0.0043\n",
            "Epoch 53/100\n",
            "38/38 [==============================] - 2s 60ms/step - loss: 0.0041\n",
            "Epoch 54/100\n",
            "38/38 [==============================] - 2s 61ms/step - loss: 0.0043\n",
            "Epoch 55/100\n",
            "38/38 [==============================] - 2s 59ms/step - loss: 0.0042\n",
            "Epoch 56/100\n",
            "38/38 [==============================] - 2s 59ms/step - loss: 0.0039\n",
            "Epoch 57/100\n",
            "38/38 [==============================] - 4s 102ms/step - loss: 0.0040\n",
            "Epoch 58/100\n",
            "38/38 [==============================] - 3s 89ms/step - loss: 0.0037\n",
            "Epoch 59/100\n",
            "38/38 [==============================] - 2s 61ms/step - loss: 0.0040\n",
            "Epoch 60/100\n",
            "38/38 [==============================] - 2s 61ms/step - loss: 0.0031\n",
            "Epoch 61/100\n",
            "38/38 [==============================] - 2s 63ms/step - loss: 0.0040\n",
            "Epoch 62/100\n",
            "38/38 [==============================] - 2s 62ms/step - loss: 0.0037\n",
            "Epoch 63/100\n",
            "38/38 [==============================] - 2s 63ms/step - loss: 0.0032\n",
            "Epoch 64/100\n",
            "38/38 [==============================] - 2s 61ms/step - loss: 0.0032\n",
            "Epoch 65/100\n",
            "38/38 [==============================] - 2s 62ms/step - loss: 0.0031\n",
            "Epoch 66/100\n",
            "38/38 [==============================] - 2s 62ms/step - loss: 0.0032\n",
            "Epoch 67/100\n",
            "38/38 [==============================] - 2s 61ms/step - loss: 0.0031\n",
            "Epoch 68/100\n",
            "38/38 [==============================] - 2s 61ms/step - loss: 0.0028\n",
            "Epoch 69/100\n",
            "38/38 [==============================] - 2s 61ms/step - loss: 0.0028\n",
            "Epoch 70/100\n",
            "38/38 [==============================] - 2s 62ms/step - loss: 0.0032\n",
            "Epoch 71/100\n",
            "38/38 [==============================] - 2s 62ms/step - loss: 0.0032\n",
            "Epoch 72/100\n",
            "38/38 [==============================] - 2s 61ms/step - loss: 0.0031\n",
            "Epoch 73/100\n",
            "38/38 [==============================] - 2s 63ms/step - loss: 0.0028\n",
            "Epoch 74/100\n",
            "38/38 [==============================] - 3s 66ms/step - loss: 0.0028\n",
            "Epoch 75/100\n",
            "38/38 [==============================] - 4s 94ms/step - loss: 0.0027\n",
            "Epoch 76/100\n",
            "38/38 [==============================] - 2s 61ms/step - loss: 0.0026\n",
            "Epoch 77/100\n",
            "38/38 [==============================] - 2s 63ms/step - loss: 0.0028\n",
            "Epoch 78/100\n",
            "38/38 [==============================] - 2s 62ms/step - loss: 0.0027\n",
            "Epoch 79/100\n",
            "38/38 [==============================] - 2s 62ms/step - loss: 0.0028\n",
            "Epoch 80/100\n",
            "38/38 [==============================] - 2s 61ms/step - loss: 0.0028\n",
            "Epoch 81/100\n",
            "38/38 [==============================] - 2s 62ms/step - loss: 0.0026\n",
            "Epoch 82/100\n",
            "38/38 [==============================] - 2s 62ms/step - loss: 0.0024\n",
            "Epoch 83/100\n",
            "38/38 [==============================] - 2s 63ms/step - loss: 0.0023\n",
            "Epoch 84/100\n",
            "38/38 [==============================] - 2s 62ms/step - loss: 0.0024\n",
            "Epoch 85/100\n",
            "38/38 [==============================] - 2s 61ms/step - loss: 0.0025\n",
            "Epoch 86/100\n",
            "38/38 [==============================] - 2s 61ms/step - loss: 0.0023\n",
            "Epoch 87/100\n",
            "38/38 [==============================] - 2s 62ms/step - loss: 0.0024\n",
            "Epoch 88/100\n",
            "38/38 [==============================] - 2s 64ms/step - loss: 0.0022\n",
            "Epoch 89/100\n",
            "38/38 [==============================] - 2s 62ms/step - loss: 0.0023\n",
            "Epoch 90/100\n",
            "38/38 [==============================] - 2s 62ms/step - loss: 0.0024\n",
            "Epoch 91/100\n",
            "38/38 [==============================] - 2s 63ms/step - loss: 0.0023\n",
            "Epoch 92/100\n",
            "38/38 [==============================] - 2s 63ms/step - loss: 0.0023\n",
            "Epoch 93/100\n",
            "38/38 [==============================] - 2s 62ms/step - loss: 0.0021\n",
            "Epoch 94/100\n",
            "38/38 [==============================] - 2s 61ms/step - loss: 0.0022\n",
            "Epoch 95/100\n",
            "38/38 [==============================] - 2s 61ms/step - loss: 0.0022\n",
            "Epoch 96/100\n",
            "38/38 [==============================] - 2s 61ms/step - loss: 0.0024\n",
            "Epoch 97/100\n",
            "38/38 [==============================] - 2s 61ms/step - loss: 0.0022\n",
            "Epoch 98/100\n",
            "38/38 [==============================] - 2s 61ms/step - loss: 0.0020\n",
            "Epoch 99/100\n",
            "38/38 [==============================] - 2s 62ms/step - loss: 0.0020\n",
            "Epoch 100/100\n",
            "38/38 [==============================] - 2s 62ms/step - loss: 0.0022\n"
          ]
        },
        {
          "output_type": "execute_result",
          "data": {
            "text/plain": [
              "<keras.callbacks.History at 0x7fcd68910cd0>"
            ]
          },
          "metadata": {},
          "execution_count": 11
        }
      ],
      "source": [
        "#import libraries and packages:\n",
        "from keras.models import Sequential\n",
        "from keras.layers import Dense\n",
        "from keras.layers import SimpleRNN\n",
        "from keras.layers import Dropout\n",
        "\n",
        "#Initialize RNN:\n",
        "regressor = Sequential()\n",
        "\n",
        "#Adding the first RNN layer and some Dropout regularization\n",
        "regressor.add(SimpleRNN(units = 50, activation='tanh', return_sequences=True, input_shape= (X_train.shape[1],1)))\n",
        "regressor.add(Dropout(0.2))\n",
        "\n",
        "#Adding the second RNN layer and some Dropout regularization\n",
        "regressor.add(SimpleRNN(units = 50, activation='tanh', return_sequences=True))\n",
        "regressor.add(Dropout(0.2))\n",
        "\n",
        "#Adding the third RNN layer and some Dropout regularization\n",
        "regressor.add(SimpleRNN(units = 50, activation='tanh', return_sequences=True))\n",
        "regressor.add(Dropout(0.2))\n",
        "\n",
        "#Adding the fourth RNN layer and some Dropout regularization\n",
        "regressor.add(SimpleRNN(units = 50))\n",
        "regressor.add(Dropout(0.2))\n",
        "\n",
        "#Adding the output layer\n",
        "regressor.add(Dense(units = 1))\n",
        "\n",
        "#Compile the RNN\n",
        "regressor.compile(optimizer='adam', loss='mean_squared_error')\n",
        "\n",
        "#Fitting the RNN to the Training set\n",
        "regressor.fit(X_train, y_train, epochs=100, batch_size=32)\n"
      ]
    },
    {
      "cell_type": "markdown",
      "metadata": {
        "id": "mgRX_6Hu9NXV"
      },
      "source": [
        "<a id=\"10\"></a>\n",
        "**Prediction and Visualization of RNN Model**"
      ]
    },
    {
      "cell_type": "code",
      "execution_count": null,
      "metadata": {
        "colab": {
          "base_uri": "https://localhost:8080/",
          "height": 204
        },
        "id": "X8eqGxY39NXW",
        "outputId": "0322844d-6650-4f92-a05a-b5857938207c"
      },
      "outputs": [
        {
          "output_type": "execute_result",
          "data": {
            "text/plain": [
              "       Date    Open    High     Low   Close     Volume\n",
              "0  1/3/2017  778.81  789.63  775.80  786.14  1,657,300\n",
              "1  1/4/2017  788.36  791.34  783.16  786.90  1,073,000\n",
              "2  1/5/2017  786.08  794.48  785.02  794.02  1,335,200\n",
              "3  1/6/2017  795.26  807.90  792.20  806.15  1,640,200\n",
              "4  1/9/2017  806.40  809.97  802.83  806.65  1,272,400"
            ],
            "text/html": [
              "\n",
              "  <div id=\"df-d8b980e7-ec08-4479-ac84-6a43ff958671\">\n",
              "    <div class=\"colab-df-container\">\n",
              "      <div>\n",
              "<style scoped>\n",
              "    .dataframe tbody tr th:only-of-type {\n",
              "        vertical-align: middle;\n",
              "    }\n",
              "\n",
              "    .dataframe tbody tr th {\n",
              "        vertical-align: top;\n",
              "    }\n",
              "\n",
              "    .dataframe thead th {\n",
              "        text-align: right;\n",
              "    }\n",
              "</style>\n",
              "<table border=\"1\" class=\"dataframe\">\n",
              "  <thead>\n",
              "    <tr style=\"text-align: right;\">\n",
              "      <th></th>\n",
              "      <th>Date</th>\n",
              "      <th>Open</th>\n",
              "      <th>High</th>\n",
              "      <th>Low</th>\n",
              "      <th>Close</th>\n",
              "      <th>Volume</th>\n",
              "    </tr>\n",
              "  </thead>\n",
              "  <tbody>\n",
              "    <tr>\n",
              "      <th>0</th>\n",
              "      <td>1/3/2017</td>\n",
              "      <td>778.81</td>\n",
              "      <td>789.63</td>\n",
              "      <td>775.80</td>\n",
              "      <td>786.14</td>\n",
              "      <td>1,657,300</td>\n",
              "    </tr>\n",
              "    <tr>\n",
              "      <th>1</th>\n",
              "      <td>1/4/2017</td>\n",
              "      <td>788.36</td>\n",
              "      <td>791.34</td>\n",
              "      <td>783.16</td>\n",
              "      <td>786.90</td>\n",
              "      <td>1,073,000</td>\n",
              "    </tr>\n",
              "    <tr>\n",
              "      <th>2</th>\n",
              "      <td>1/5/2017</td>\n",
              "      <td>786.08</td>\n",
              "      <td>794.48</td>\n",
              "      <td>785.02</td>\n",
              "      <td>794.02</td>\n",
              "      <td>1,335,200</td>\n",
              "    </tr>\n",
              "    <tr>\n",
              "      <th>3</th>\n",
              "      <td>1/6/2017</td>\n",
              "      <td>795.26</td>\n",
              "      <td>807.90</td>\n",
              "      <td>792.20</td>\n",
              "      <td>806.15</td>\n",
              "      <td>1,640,200</td>\n",
              "    </tr>\n",
              "    <tr>\n",
              "      <th>4</th>\n",
              "      <td>1/9/2017</td>\n",
              "      <td>806.40</td>\n",
              "      <td>809.97</td>\n",
              "      <td>802.83</td>\n",
              "      <td>806.65</td>\n",
              "      <td>1,272,400</td>\n",
              "    </tr>\n",
              "  </tbody>\n",
              "</table>\n",
              "</div>\n",
              "      <button class=\"colab-df-convert\" onclick=\"convertToInteractive('df-d8b980e7-ec08-4479-ac84-6a43ff958671')\"\n",
              "              title=\"Convert this dataframe to an interactive table.\"\n",
              "              style=\"display:none;\">\n",
              "        \n",
              "  <svg xmlns=\"http://www.w3.org/2000/svg\" height=\"24px\"viewBox=\"0 0 24 24\"\n",
              "       width=\"24px\">\n",
              "    <path d=\"M0 0h24v24H0V0z\" fill=\"none\"/>\n",
              "    <path d=\"M18.56 5.44l.94 2.06.94-2.06 2.06-.94-2.06-.94-.94-2.06-.94 2.06-2.06.94zm-11 1L8.5 8.5l.94-2.06 2.06-.94-2.06-.94L8.5 2.5l-.94 2.06-2.06.94zm10 10l.94 2.06.94-2.06 2.06-.94-2.06-.94-.94-2.06-.94 2.06-2.06.94z\"/><path d=\"M17.41 7.96l-1.37-1.37c-.4-.4-.92-.59-1.43-.59-.52 0-1.04.2-1.43.59L10.3 9.45l-7.72 7.72c-.78.78-.78 2.05 0 2.83L4 21.41c.39.39.9.59 1.41.59.51 0 1.02-.2 1.41-.59l7.78-7.78 2.81-2.81c.8-.78.8-2.07 0-2.86zM5.41 20L4 18.59l7.72-7.72 1.47 1.35L5.41 20z\"/>\n",
              "  </svg>\n",
              "      </button>\n",
              "      \n",
              "  <style>\n",
              "    .colab-df-container {\n",
              "      display:flex;\n",
              "      flex-wrap:wrap;\n",
              "      gap: 12px;\n",
              "    }\n",
              "\n",
              "    .colab-df-convert {\n",
              "      background-color: #E8F0FE;\n",
              "      border: none;\n",
              "      border-radius: 50%;\n",
              "      cursor: pointer;\n",
              "      display: none;\n",
              "      fill: #1967D2;\n",
              "      height: 32px;\n",
              "      padding: 0 0 0 0;\n",
              "      width: 32px;\n",
              "    }\n",
              "\n",
              "    .colab-df-convert:hover {\n",
              "      background-color: #E2EBFA;\n",
              "      box-shadow: 0px 1px 2px rgba(60, 64, 67, 0.3), 0px 1px 3px 1px rgba(60, 64, 67, 0.15);\n",
              "      fill: #174EA6;\n",
              "    }\n",
              "\n",
              "    [theme=dark] .colab-df-convert {\n",
              "      background-color: #3B4455;\n",
              "      fill: #D2E3FC;\n",
              "    }\n",
              "\n",
              "    [theme=dark] .colab-df-convert:hover {\n",
              "      background-color: #434B5C;\n",
              "      box-shadow: 0px 1px 3px 1px rgba(0, 0, 0, 0.15);\n",
              "      filter: drop-shadow(0px 1px 2px rgba(0, 0, 0, 0.3));\n",
              "      fill: #FFFFFF;\n",
              "    }\n",
              "  </style>\n",
              "\n",
              "      <script>\n",
              "        const buttonEl =\n",
              "          document.querySelector('#df-d8b980e7-ec08-4479-ac84-6a43ff958671 button.colab-df-convert');\n",
              "        buttonEl.style.display =\n",
              "          google.colab.kernel.accessAllowed ? 'block' : 'none';\n",
              "\n",
              "        async function convertToInteractive(key) {\n",
              "          const element = document.querySelector('#df-d8b980e7-ec08-4479-ac84-6a43ff958671');\n",
              "          const dataTable =\n",
              "            await google.colab.kernel.invokeFunction('convertToInteractive',\n",
              "                                                     [key], {});\n",
              "          if (!dataTable) return;\n",
              "\n",
              "          const docLinkHtml = 'Like what you see? Visit the ' +\n",
              "            '<a target=\"_blank\" href=https://colab.research.google.com/notebooks/data_table.ipynb>data table notebook</a>'\n",
              "            + ' to learn more about interactive tables.';\n",
              "          element.innerHTML = '';\n",
              "          dataTable['output_type'] = 'display_data';\n",
              "          await google.colab.output.renderOutput(dataTable, element);\n",
              "          const docLink = document.createElement('div');\n",
              "          docLink.innerHTML = docLinkHtml;\n",
              "          element.appendChild(docLink);\n",
              "        }\n",
              "      </script>\n",
              "    </div>\n",
              "  </div>\n",
              "  "
            ]
          },
          "metadata": {},
          "execution_count": 13
        }
      ],
      "source": [
        "dataset_test = pd.read_csv('Stock_Price_Test.csv')\n",
        "dataset_test.head()"
      ]
    },
    {
      "cell_type": "code",
      "execution_count": null,
      "metadata": {
        "colab": {
          "base_uri": "https://localhost:8080/"
        },
        "id": "k_pVeYnH9NXX",
        "outputId": "6dd814ab-dbc9-4ce5-bdf4-1f5d882f0c7d"
      },
      "outputs": [
        {
          "output_type": "execute_result",
          "data": {
            "text/plain": [
              "array([[778.81],\n",
              "       [788.36],\n",
              "       [786.08],\n",
              "       [795.26],\n",
              "       [806.4 ],\n",
              "       [807.86],\n",
              "       [805.  ],\n",
              "       [807.14],\n",
              "       [807.48],\n",
              "       [807.08],\n",
              "       [805.81],\n",
              "       [805.12],\n",
              "       [806.91],\n",
              "       [807.25],\n",
              "       [822.3 ],\n",
              "       [829.62],\n",
              "       [837.81],\n",
              "       [834.71],\n",
              "       [814.66],\n",
              "       [796.86]])"
            ]
          },
          "metadata": {},
          "execution_count": 14
        }
      ],
      "source": [
        "real_stock_price = dataset_test.loc[:, ['Open']].values\n",
        "real_stock_price"
      ]
    },
    {
      "cell_type": "code",
      "execution_count": null,
      "metadata": {
        "colab": {
          "base_uri": "https://localhost:8080/"
        },
        "id": "NHvsiNAh9NXY",
        "outputId": "d4271ac8-a15f-46f5-ea39-b5f2a7054c6c"
      },
      "outputs": [
        {
          "output_type": "execute_result",
          "data": {
            "text/plain": [
              "array([[0.97510976],\n",
              "       [0.95966962],\n",
              "       [0.97808617],\n",
              "       [1.        ],\n",
              "       [0.98076494],\n",
              "       [0.97083116],\n",
              "       [0.98450406],\n",
              "       [0.96054394],\n",
              "       [0.9371419 ],\n",
              "       [0.92841729],\n",
              "       [0.90804747],\n",
              "       [0.8771858 ],\n",
              "       [0.92153434],\n",
              "       [0.93809063],\n",
              "       [0.93165414],\n",
              "       [0.95254483],\n",
              "       [0.88812412],\n",
              "       [0.88637547],\n",
              "       [0.87032145],\n",
              "       [0.88563137],\n",
              "       [0.90743359],\n",
              "       [0.91571173],\n",
              "       [0.89941588],\n",
              "       [0.91805566],\n",
              "       [0.9089404 ],\n",
              "       [0.9024853 ],\n",
              "       [0.89456061],\n",
              "       [0.91600938],\n",
              "       [0.9132934 ],\n",
              "       [0.88979835],\n",
              "       [0.86589404],\n",
              "       [0.89030062],\n",
              "       [0.90335962],\n",
              "       [0.89642086],\n",
              "       [0.91777662],\n",
              "       [0.93176576],\n",
              "       [0.94114145],\n",
              "       [0.95762334],\n",
              "       [0.96413424],\n",
              "       [0.96402262],\n",
              "       [0.96971501],\n",
              "       [0.95077759],\n",
              "       [0.96294367],\n",
              "       [0.96123223],\n",
              "       [0.95475854],\n",
              "       [0.95204256],\n",
              "       [0.95163331],\n",
              "       [0.95725128],\n",
              "       [0.93796041],\n",
              "       [0.93688146],\n",
              "       [0.92955205],\n",
              "       [0.94731751],\n",
              "       [0.94307612],\n",
              "       [0.96015329],\n",
              "       [0.98087655],\n",
              "       [0.98359253],\n",
              "       [0.97827219],\n",
              "       [0.98225314],\n",
              "       [0.98288563],\n",
              "       [0.98214153],\n",
              "       [0.979779  ],\n",
              "       [0.97849542],\n",
              "       [0.98182528],\n",
              "       [0.98245777],\n",
              "       [1.01045465],\n",
              "       [1.02407173],\n",
              "       [1.03930724],\n",
              "       [1.03354044],\n",
              "       [0.99624228],\n",
              "       [0.9631297 ]])"
            ]
          },
          "metadata": {},
          "execution_count": 15
        }
      ],
      "source": [
        "#Getting the predicted stock price\n",
        "dataset_total = pd.concat((dataset_train['Open'], dataset_test['Open']), axis=0)\n",
        "inputs = dataset_total[len(dataset_total)-len(dataset_test) - timesteps:].values.reshape(-1,1)\n",
        "inputs = scaler.transform(inputs) #minmax scaler\n",
        "inputs"
      ]
    },
    {
      "cell_type": "code",
      "execution_count": null,
      "metadata": {
        "colab": {
          "base_uri": "https://localhost:8080/"
        },
        "id": "R--zvhQF9NXY",
        "outputId": "2ba9bdcf-3c17-4226-a740-fdc75f81a57c"
      },
      "outputs": [
        {
          "output_type": "stream",
          "name": "stdout",
          "text": [
            "1/1 [==============================] - 1s 627ms/step\n"
          ]
        }
      ],
      "source": [
        "X_test = []\n",
        "for i in range(timesteps, 70):\n",
        "    X_test.append(inputs[i-timesteps:i,0])\n",
        "X_test = np.array(X_test)\n",
        "X_test = np.reshape(X_test, (X_test.shape[0], X_test.shape[1], 1))\n",
        "predicted_stock_price = regressor.predict(X_test)\n",
        "predicted_stock_price = scaler.inverse_transform(predicted_stock_price)"
      ]
    },
    {
      "cell_type": "code",
      "execution_count": null,
      "metadata": {
        "colab": {
          "base_uri": "https://localhost:8080/",
          "height": 295
        },
        "id": "pYlWcBk19NXY",
        "outputId": "eff833ea-8285-4fe2-9fbf-1205fe3eb8ec"
      },
      "outputs": [
        {
          "output_type": "display_data",
          "data": {
            "text/plain": [
              "<Figure size 432x288 with 1 Axes>"
            ],
            "image/png": "[encoded data removed]"
          },
          "metadata": {
            "needs_background": "light"
          }
        }
      ],
      "source": [
        "plt.plot(real_stock_price, color='red', label='Real Google Stock Price')\n",
        "plt.plot(predicted_stock_price, color='blue', label='Predicted Google Stock Price')\n",
        "plt.title('Google Stock Price Prediction')\n",
        "plt.xlabel('Time')\n",
        "plt.ylabel('Google Stock Price')\n",
        "plt.legend()\n",
        "plt.show()"
      ]
    }
  ],
  "metadata": {
    "kernelspec": {
      "display_name": "Python 3",
      "language": "python",
      "name": "python3"
    },
    "language_info": {
      "codemirror_mode": {
        "name": "ipython",
        "version": 3
      },
      "file_extension": ".py",
      "mimetype": "text/x-python",
      "name": "python",
      "nbconvert_exporter": "python",
      "pygments_lexer": "ipython3",
      "version": "3.6.6"
    },
    "colab": {
      "provenance": []
    }
  },
  "nbformat": 4,
  "nbformat_minor": 0
}